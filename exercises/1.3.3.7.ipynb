{
 "cells": [
  {
   "cell_type": "markdown",
   "metadata": {},
   "source": [
    "Define the function F associated to the type of lists. Show that it also has a greatest fixpoint, distinct from the smallest fixpoint, and provide concrete description of it."
   ]
  },
  {
   "cell_type": "markdown",
   "metadata": {},
   "source": [
    "The type of lists can be defined as:"
   ]
  },
  {
   "cell_type": "code",
   "execution_count": null,
   "metadata": {},
   "outputs": [],
   "source": [
    "type 'a list =\n",
    "  | Nil\n",
    "  | Cons of 'a * 'a list"
   ]
  },
  {
   "cell_type": "markdown",
   "metadata": {},
   "source": [
    "As such, the induced function $F$ is:"
   ]
  },
  {
   "cell_type": "markdown",
   "metadata": {},
   "source": [
    "$$F(X) = \\{\\mathsf{Nil}\\} \\cup \\{\\mathsf{Cons}(\\mathsf{x}, \\mathsf{xs}) | \\mathsf{x} \\in \\mathsf{'a}, \\mathsf{xs} \\in X\\}$$"
   ]
  },
  {
   "cell_type": "markdown",
   "metadata": {},
   "source": [
    "The (smallest) fixpoint can be obtained via reiterated application of $F$ to the empty set."
   ]
  },
  {
   "cell_type": "markdown",
   "metadata": {},
   "source": [
    "$$F^0(\\emptyset) = \\emptyset$$"
   ]
  },
  {
   "cell_type": "markdown",
   "metadata": {},
   "source": [
    "$$F^1(\\emptyset) = \\{\\mathsf{Nil}\\}$$"
   ]
  },
  {
   "cell_type": "markdown",
   "metadata": {},
   "source": [
    "$$F^2(\\emptyset) = \\{\\mathsf{Nil}\\} \\cup \\{\\mathsf{Cons}(\\mathsf{x},\\mathsf{Nil}) | \\mathsf{x} \\in \\mathsf{'a}\\}$$"
   ]
  },
  {
   "cell_type": "markdown",
   "metadata": {},
   "source": [
    "And so on, in such a way that $F^n(\\emptyset)$ is the set of all lists of length strictly below $n$."
   ]
  },
  {
   "cell_type": "markdown",
   "metadata": {},
   "source": [
    "As with trees, lists can also be infinite, but not when built iterating $F$ over the empty set. The greatest fix point of $F$ would then be the set of lists which are allowed to have both infinite or finite length."
   ]
  }
 ],
 "metadata": {
  "kernelspec": {
   "display_name": "OCaml 4.06.0",
   "language": "OCaml",
   "name": "ocaml-jupyter"
  },
  "language_info": {
   "codemirror_mode": "text/x-ocaml",
   "file_extension": ".ml",
   "mimetype": "text/x-ocaml",
   "name": "OCaml",
   "nbconverter_exporter": null,
   "pygments_lexer": "OCaml",
   "version": "4.06.0"
  }
 },
 "nbformat": 4,
 "nbformat_minor": 2
}
